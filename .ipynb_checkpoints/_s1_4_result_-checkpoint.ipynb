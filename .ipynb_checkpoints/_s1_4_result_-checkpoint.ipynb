{
 "cells": [
  {
   "cell_type": "code",
   "execution_count": 20,
   "metadata": {
    "ExecuteTime": {
     "end_time": "2018-09-08T19:48:47.220070Z",
     "start_time": "2018-09-08T19:48:36.948931Z"
    }
   },
   "outputs": [
    {
     "name": "stdout",
     "output_type": "stream",
     "text": [
      "1--- 2.9441683292388916 seconds ---\n",
      "2--- 0.21001195907592773 seconds ---\n",
      "3--- 7.427424907684326 seconds ---\n",
      "4--- 1.3930795192718506 seconds ---\n",
      "5--- 0.12700748443603516 seconds ---\n"
     ]
    }
   ],
   "source": [
    "import sqlite3\n",
    "import pandas as pd\n",
    "import time\n",
    "\n",
    "st = time.time()\n",
    "\n",
    "conn = sqlite3.connect(\"stock.db\")\n",
    "ds_ratio = pd.read_sql_query('select STOCK_CODE, STOCK_FACTOR, STOCK_YEAR, STOCK_DATA from VCSC_FINANCIAL_RATIO', conn)\n",
    "ds_price = pd.read_sql_query('select STOCK_CODE, STOCK_DATE, STOCK_CLOSE from VCSC_STOCK_PRICE', conn)\n",
    "conn.close()\n",
    "\n",
    "print(\"1--- %s seconds ---\" % (time.time() - st))\n",
    "st = time.time()\n",
    "\n",
    "ds_ratio = ds_ratio.loc[ds_ratio['STOCK_FACTOR'] == 'EPS (VND)']\n",
    "#ds_ratio = ds_ratio.loc[ds_ratio['STOCK_FACTOR'] == 'BVS']\n",
    "\n",
    "ds_ratio = ds_ratio.loc[ds_ratio['STOCK_YEAR'].str.contains('TTM')==False]\n",
    "ds_ratio['STOCK_DATA'] = ds_ratio['STOCK_DATA'].str.replace('^-$', '')\n",
    "ds_ratio['STOCK_DATA'] = ds_ratio['STOCK_DATA'].str.replace(',', '')\n",
    "ds_ratio['STOCK_DATA'] = pd.to_numeric(ds_ratio['STOCK_DATA'])\n",
    "ds_ratio['STOCK_YEAR'] = pd.to_numeric(ds_ratio['STOCK_YEAR'])\n",
    "\n",
    "print(\"2--- %s seconds ---\" % (time.time() - st))\n",
    "st = time.time()\n",
    "\n",
    "ds_price['STOCK_DATE'] = pd.to_datetime(ds_price['STOCK_DATE'], format='%m/%d/%Y')\n",
    "ds_price['STOCK_YEAR'] = ds_price['STOCK_DATE'].dt.year\n",
    "ds_price['STOCK_QUARTER'] = ds_price['STOCK_YEAR'].astype('str') + ds_price['STOCK_DATE'].dt.quarter.astype('str')\n",
    "ds_price['STOCK_CLOSE'] = ds_price['STOCK_CLOSE'].str.replace(',', '').astype(float)\n",
    "\n",
    "print(\"3--- %s seconds ---\" % (time.time() - st))\n",
    "st = time.time()\n",
    "\n",
    "ds_price = ds_price.sort_values(['STOCK_DATE'], ascending=[False]).groupby(['STOCK_CODE', 'STOCK_QUARTER']).nth(0)\n",
    "ds_price['NEXT-PRICE-Q'] = ds_price.groupby(level=0)['STOCK_CLOSE'].shift(-1)\n",
    "ds_price = ds_price.sort_values(['STOCK_DATE'], ascending=[False]).groupby(['STOCK_CODE', 'STOCK_YEAR']).nth(0)\n",
    "ds_price['NEXT-PRICE-Y'] = ds_price.groupby(level=0)['STOCK_CLOSE'].shift(-1)\n",
    "\n",
    "print(\"4--- %s seconds ---\" % (time.time() - st))\n",
    "st = time.time()\n",
    "\n",
    "ds_ratio = ds_ratio.merge(ds_price, left_on=['STOCK_CODE', 'STOCK_YEAR'], right_on=['STOCK_CODE', 'STOCK_YEAR'], how='right')\n",
    "ds_ratio['EP'] = ds_ratio['STOCK_DATA'].div(ds_ratio['NEXT-PRICE-Q'])\n",
    "ds_ratio = ds_ratio.dropna(subset=['STOCK_FACTOR'])\n",
    "ds_ratio['RETURN'] = ds_ratio['NEXT-PRICE-Y'].div(ds_ratio['NEXT-PRICE-Q'])\n",
    "ds_ratio['DECILE'] = (ds_ratio.groupby('STOCK_YEAR')['EP']\n",
    "                                .apply(lambda x: pd.qcut(x,10,duplicates='drop',labels=False)))\n",
    "\n",
    "#s1 = ds_ratio.groupby(['STOCK_YEAR','DECILE'], as_index=False).mean()\n",
    "\n",
    "print(\"5--- %s seconds ---\" % (time.time() - st))\n",
    "st = time.time()\n",
    "\n",
    "#s1.pivot(index='DECILE', columns='STOCK_YEAR', values='RETURN')\n",
    "\n",
    "#ds_ratio\n",
    "ds_ratio.to_excel('result_1.xlsx', header=True, index=None)"
   ]
  },
  {
   "cell_type": "code",
   "execution_count": null,
   "metadata": {
    "collapsed": true
   },
   "outputs": [],
   "source": []
  }
 ],
 "metadata": {
  "kernelspec": {
   "display_name": "Python 3",
   "language": "python",
   "name": "python3"
  },
  "language_info": {
   "codemirror_mode": {
    "name": "ipython",
    "version": 3
   },
   "file_extension": ".py",
   "mimetype": "text/x-python",
   "name": "python",
   "nbconvert_exporter": "python",
   "pygments_lexer": "ipython3",
   "version": "3.6.5"
  }
 },
 "nbformat": 4,
 "nbformat_minor": 2
}
