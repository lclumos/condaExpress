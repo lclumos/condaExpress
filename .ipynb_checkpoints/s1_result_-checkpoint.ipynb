{
 "cells": [
  {
   "cell_type": "code",
   "execution_count": null,
   "metadata": {
    "ExecuteTime": {
     "start_time": "2018-08-26T16:40:11.723Z"
    }
   },
   "outputs": [],
   "source": [
    "import sqlite3\n",
    "import pandas as pd\n",
    "\n",
    "conn = sqlite3.connect(\"stock.db\")\n",
    "ds_ratio = pd.read_sql_query('select STOCK_CODE, STOCK_FACTOR, STOCK_YEAR, STOCK_DATA from VCSC_FINANCIAL_RATIO', conn)\n",
    "ds_price = pd.read_sql_query('select STOCK_CODE, STOCK_DATE, STOCK_CLOSE from VCSC_STOCK_PRICE', conn)\n",
    "conn.close()\n",
    "\n",
    "#ds_ratio = ds_ratio.loc[ds_ratio['STOCK_FACTOR'] == 'EPS (VND)']\n",
    "#ds_ratio = ds_ratio.loc[ds_ratio['STOCK_YEAR'].str.contains('TTM')==False]\n",
    "#ds_ratio['STOCK_DATA'] = ds_ratio['STOCK_DATA'].str.replace('-', '')\n",
    "#ds_ratio['STOCK_DATA'] = ds_ratio['STOCK_DATA'].str.replace(',', '')\n",
    "#ds_ratio['STOCK_DATA'] = pd.to_numeric(ds_ratio['STOCK_DATA'])\n",
    "#ds_ratio['STOCK_YEAR'] = pd.to_numeric(ds_ratio['STOCK_YEAR'])\n",
    "\n",
    "ds_price['STOCK_DATE'] = pd.to_datetime(ds_price['STOCK_DATE'], format='%m/%d/%Y')\n",
    "ds_price['STOCK_CLOSE'] = ds_price['STOCK_CLOSE'].str.replace(',', '')\n",
    "ds_price['STOCK_CLOSE'] = pd.to_numeric(ds_price['STOCK_CLOSE'])\n",
    "ds_price['STOCK_YEAR'] = ds_price['STOCK_DATE'].dt.year\n",
    "ds_price['STOCK_QUARTER'] = ds_price['STOCK_DATE'].dt.to_period(\"Q\")\n",
    "ds_price = ds_price.sort_values(['STOCK_DATE'], ascending=[False]).groupby(['STOCK_CODE', 'STOCK_QUARTER']).first()\n",
    "\n",
    "for idx, data in ds_price.groupby(level=0):\n",
    "    print('---')\n",
    "    print(data.iloc[0])"
   ]
  },
  {
   "cell_type": "code",
   "execution_count": null,
   "metadata": {},
   "outputs": [],
   "source": []
  }
 ],
 "metadata": {
  "kernelspec": {
   "display_name": "Python 3",
   "language": "python",
   "name": "python3"
  },
  "language_info": {
   "codemirror_mode": {
    "name": "ipython",
    "version": 3
   },
   "file_extension": ".py",
   "mimetype": "text/x-python",
   "name": "python",
   "nbconvert_exporter": "python",
   "pygments_lexer": "ipython3",
   "version": "3.6.5"
  }
 },
 "nbformat": 4,
 "nbformat_minor": 2
}
